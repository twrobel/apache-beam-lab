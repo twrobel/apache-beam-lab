{
 "cells": [
  {
   "cell_type": "markdown",
   "metadata": {},
   "source": [
    "<a href=\"https://colab.research.google.com/github/twrobel/apache-beam-lab/blob/main/apache-beam-lab-advanced.ipynb\" target=\"_parent\"><img src=\"https://colab.research.google.com/assets/colab-badge.svg\" alt=\"Open In Colab\"/></a>"
   ]
  },
  {
   "cell_type": "markdown",
   "metadata": {},
   "source": [
    "## Introduction\n",
    "## Windows - What are they good for?\n",
    "\n",
    "When we work on a _batch_ (e.g. a `.csv` file) we are dealing with a _bounded_ input. There are a finite number of records \n",
    "in our `PCollection`. Working with a bounded input comes naturally to most people, so much so that there are a number of \n",
    "concepts that we probably take for granted when doing so. For example, imagine you are processing a `.csv` file containing\n",
    "the scores that players recorded on an online game. The `.csv` file is published daily (the number of records in the file\n",
    "vary from one day to the next). Say you wanted to determine the average score for players aged 16-18? You could perform \n",
    "a `GroupByKey` operation on the `PCollection` records where the key `16 >= age <= 18` and calculate the `mean`. In this \n",
    "scenario, we usally assume that the `GroupByKey` operation will be performed on _all_ of the matching records in the \n",
    "`.csv` file.  \n",
    "\n",
    "Now consider an alternative scenario where the data arrives as a stream via a Kafka Topic. In this scenario our input is \n",
    "_unbounded_; there are an infinite (or potentially infinite) number of records in our `PCollection`. We can't  simply \n",
    "declare a `GroupByKey` operation on the stream where `16 >= age <= 18`, because these types of records could keep \n",
    "arriving forever (apparently, a lot of teenagers are playing video games these days). Instead, we also need to declare a\n",
    "_boundary_ on the data we want processed. Windows! Windows let us explicitly define boundaries on our input data. \n",
    "\n",
    "## Types of Windows\n",
    "\n",
    "### Fixed Time Windows (aka Tumbling Windows)\n",
    "\n",
    "Given a timestamped `PCollection` we declare a window to capture all of the elements whose timestamps lie within the \n",
    "specified time range. For example, we might declare a fixed window with a duration of 30 seconds on our stream data. \n",
    "Then, any elements with a timestamp in the range `[00:00:00, 00:00:30)` (i.e. up to but not including `00:00:30`) would \n",
    "get averaged as part of Window 0. Likewise, any elements with a timestamp in the range `[00:00:30, 00:01:00)` would get \n",
    "averaged as part of Window 1, and so on.  \n",
    "\n",
    "<table class=\"image\">\n",
    "<caption align=\"bottom\" style=\"text-align: center\">https://beam.apache.org/documentation/programming-guide</caption>\n",
    "<tr><td><img src=\"https://beam.apache.org/images/fixed-time-windows.png\"></td></tr>\n",
    "</table>\n",
    " \n",
    "### Sliding Time Windows\n",
    "\n",
    "Sliding windows can overlap. For example, we could declare a sliding window _duration_ of 60 seconds, and declare that a \n",
    "new window should start every 30 seconds (called the _period_). In this case, elements will belong to more than 1 \n",
    "window. This type of windowing can be used to create rolling averages.\n",
    "\n",
    "<table class=\"image\">\n",
    "<caption align=\"bottom\" style=\"text-align: center\">https://beam.apache.org/documentation/programming-guide</caption>\n",
    "<tr><td><img src=\"https://beam.apache.org/images/sliding-time-windows.png\"></td></tr>\n",
    "</table>\n",
    "\n",
    "### Session Windows\n",
    "\n",
    "A session window creates a boundary around a series of consecutive events separated by a duration of time (i.e. a\n",
    "_gap_). For example, imagine we are collecting user input data (e.g. keyboard strokes, joystick movement, touch input) \n",
    "for the players in our online game. We might expect to see bursts of data for each player, followed by gaps with no \n",
    "activity (time for a soda, time for homework). When data arrives after the specified gap duration, a new window is \n",
    "created. Note that session windows are applied on a per-key basis.   \n",
    "\n",
    "<table class=\"image\">\n",
    "<caption align=\"bottom\" style=\"text-align: center\">\n",
    "    https://beam.apache.org/documentation/programming-guide\n",
    "</caption>\n",
    "<tr><td><img src=\"https://beam.apache.org/images/session-windows.png\"></td></tr>\n",
    "</table>\n",
    "\n",
    "### Global Windows\n",
    "\n",
    "This is the default window if your pipeline doesn't explicitly create one of the aforementioned windows. When we \n",
    "considered our batch data example, we relied on a global window. Because our datasource was a `.csv` file, the data was \n",
    "bounded so we could safely perform aggregation operations (e.g. `GroupByKey`, `Combine`) operations. Actually, you _can_ \n",
    "use a global window on streaming data, under a couple of circumstances:\n",
    "\n",
    "- You aren't performing any aggregation operations in your pipeline. For example, if your pipeline is performing simple \n",
    "transformations on individual `PCollection` elements as they arrive on the stream. \n",
    "- You provide a non-default `Trigger` for the global window. Triggers are the mechanism used by Beam to determine when \n",
    "to emit the results of a window. So for example, you might use a custom trigger that says to emit the results of your \n",
    "global window every time 50 elements arrive.\n"
   ]
  },
  {
   "cell_type": "markdown",
   "metadata": {},
   "source": [
    "\n",
    "## Windowing with bounded PCollections\n",
    "You can use windowing with fixed-size data sets in bounded PCollections. However, note that windowing considers only the implicit timestamps attached to each element of a PCollection, and data sources that create fixed data sets (such as TextIO) assign the same timestamp to every element. This means that all the elements are by default part of a single, global window.\n",
    "\n",
    "To use windowing with fixed data sets, you can assign your own timestamps to each element. To assign timestamps to elements, use a ParDo transform with a DoFn that outputs each element with a new timestamp (for example, the WithTimestamps transform in the Beam SDK for Java)."
   ]
  },
  {
   "cell_type": "markdown",
   "metadata": {
    "pycharm": {
     "name": "#%% md\n"
    }
   },
   "source": [
    "##  Setup"
   ]
  },
  {
   "cell_type": "code",
   "execution_count": 3,
   "metadata": {
    "pycharm": {
     "is_executing": false
    }
   },
   "outputs": [],
   "source": [
    "# Install apache-beam with pip.\n",
    "!pip install --quiet 'apache-beam[interactive]' "
   ]
  },
  {
   "cell_type": "code",
   "execution_count": 4,
   "metadata": {
    "pycharm": {
     "is_executing": false,
     "name": "#%%\n"
    }
   },
   "outputs": [],
   "source": [
    "# Import required libraries\n",
    "import apache_beam as beam\n",
    "from datetime import datetime\n",
    "import pytz\n",
    "\n",
    "# some convenience functions to help keep the code terse\n",
    "def dtime(yy=2020, mm=3, day=4, hour=0, min=0, sec=0, ms=0, tzinfo=pytz.UTC):\n",
    "    return datetime(yy, mm, day, hour, min, sec, ms, tzinfo)\n",
    "\n",
    "def tstamp(**kwargs):\n",
    "    return dtime(**kwargs).timestamp()\n"
   ]
  },
  {
   "cell_type": "markdown",
   "metadata": {},
   "source": [
    "## In the following exercises, you will learn how to\n",
    "1. Use a ParDo transform\n",
    "2. Add timestamps to elements in a PCollection\n",
    "3. Use fixed windows\n",
    "4. Use sliding windows\n",
    "5. Use session windows\n",
    "6. Use global windows"
   ]
  },
  {
   "cell_type": "markdown",
   "metadata": {},
   "source": [
    "### Before you start, here are a few things to remember...\n",
    "* Read the examples carefully before each exercise as they provide you with useful hints to complete the exercises. \n",
    "\n",
    "* In the exercises, you must write your code in spots marked by:\n",
    "> #YOUR CODE HERE\n",
    "\n",
    "* To see the output of your code, select the code cell you want to run and then click \"Run\" in the toolbar above or press \"Ctrl + Enter\".\n",
    "* Running a markdown cell will display it's HTML output. No harm done. Just move along."
   ]
  },
  {
   "cell_type": "markdown",
   "metadata": {
    "pycharm": {
     "name": "#%% md\n"
    }
   },
   "source": [
    "### Example - ParDo Transform\n",
    "#### A ParDo transform considers each element in the input PCollection, performs some processing function (your user code) on that element, and emits zero, one, or multiple elements to an output PCollection.\n",
    "\n",
    "In the example below, we compute the length for each word in a PCollection of \"words\" using the ParDo transform and a DoFn object ComputeWordLengthFn() that can computer word length. \n",
    "\n",
    "```python\n",
    "  pipeline\n",
    "      | 'Create collection' >> beam.Create(words)\n",
    "      | 'Compute word length' >> beam.ParDo(ComputeWordLengthFn())\n",
    "```\n",
    "\n",
    "#### The DoFn object that you pass to ParDo contains the processing logic that gets applied to the elements in the input collection. When you use Beam, often the most important pieces of code you’ll write are these DoFns - they’re what define your pipeline’s exact data processing tasks.\n",
    "\n",
    "Inside your DoFn subclass, you’ll must include a method process where you provide the actual processing logic. You don’t need to manually extract the elements from the input collection; the Beam SDKs handle that for you. Your process method should accept an argument element, which is the input element, and return an iterable with its output values. You can accomplish this by emitting individual elements with yield statements. You can also use a return statement with an iterable, like a list or a generator.\n",
    "\n",
    "```python\n",
    "def process(self, element):\n",
    "    return [len(element)]\n",
    "```"
   ]
  },
  {
   "cell_type": "code",
   "execution_count": null,
   "metadata": {
    "pycharm": {
     "is_executing": false,
     "name": "#%%\n"
    }
   },
   "outputs": [],
   "source": [
    "class ComputeWordLengthFn(beam.DoFn):\n",
    "    def process(self, element):\n",
    "        return [len(element)]\n",
    "\n",
    "words = ['Person', 'Woman', 'Man', 'Camera', 'TV']\n",
    "\n",
    "with beam.Pipeline() as pipeline:\n",
    "    outputs = (\n",
    "        pipeline\n",
    "        | 'Create values' >> beam.Create(words)\n",
    "        | 'Compute word length' >> beam.ParDo(ComputeWordLengthFn())\n",
    "    )\n",
    "    outputs | beam.Map(print)"
   ]
  },
  {
   "cell_type": "markdown",
   "metadata": {
    "pycharm": {
     "name": "#%% md\n"
    }
   },
   "source": [
    "### Exercise 1 \n",
    "### Use a ParDo transform to count vowels in each word\n",
    "\n",
    "Implement the DoFn object that returns an iterable with number of vowels in each element. Use a ParDo transform to count the number of vowels in a word collection.\n",
    "\n",
    "#### Expected Output:\n",
    "```\n",
    "2\n",
    "2\n",
    "1\n",
    "3\n",
    "0\n",
    "```"
   ]
  },
  {
   "cell_type": "code",
   "execution_count": null,
   "metadata": {
    "pycharm": {
     "is_executing": false,
     "name": "#%%\n"
    }
   },
   "outputs": [],
   "source": [
    "class CountVowelsFn(beam.DoFn):\n",
    "    def process(self, element):\n",
    "        return #YOUR CODE HERE\n",
    "\n",
    "\n",
    "words = ['Person', 'Woman', 'Man', 'Camera', 'TV']\n",
    "\n",
    "with beam.Pipeline() as pipeline:\n",
    "    outputs = (\n",
    "        pipeline\n",
    "        | 'Create values' >> beam.Create(words)\n",
    "        | 'Compute word length' >> beam.ParDo(CountVowelsFn())\n",
    "    )\n",
    "    outputs | beam.Map(print)"
   ]
  },
  {
   "cell_type": "markdown",
   "metadata": {
    "pycharm": {
     "name": "#%% md\n"
    }
   },
   "source": [
    "### Example - Add timestamp to animal sighting events\n",
    "#### You can assign new timestamps to the elements of a PCollection by applying a ParDo transform that outputs new elements with timestamps that you set.  \n",
    "\n",
    "In the example below, inputs are a collection of animal sightings events with a timestamp field. Using the timestamp field on the Animal Sighting Event, we can assign a timestamp to the elements of PCollection with the help of AddTimestampFn. We then verify that the timestamps are attached by retrieving them with the help of GetTimestampFn.\n",
    "\n",
    "#### beam.window.TimestampedValue takes a value and a Unix timestamp in the form of seconds.\n",
    "```python\n",
    "class AddTimestampFn(beam.DoFn):\n",
    "    def process(self, element, **kwargs):\n",
    "        unix_timestamp = element.timestamp.timestamp()\n",
    "        yield beam.window.TimestampedValue(element, unix_timestamp)\n",
    "```"
   ]
  },
  {
   "cell_type": "code",
   "execution_count": null,
   "metadata": {
    "pycharm": {
     "is_executing": false,
     "name": "#%%\n"
    }
   },
   "outputs": [],
   "source": [
    "class AnimalSightingEvent:\n",
    "    def __init__(self, id, animal, timestamp):\n",
    "        self.id = id\n",
    "        self.animal = animal\n",
    "        self.timestamp = timestamp\n",
    "        \n",
    "class AddTimestampFn(beam.DoFn):\n",
    "    def process(self, element, **kwargs):\n",
    "        unix_timestamp = element.timestamp.timestamp()\n",
    "        yield beam.window.TimestampedValue(element, unix_timestamp)\n",
    "        \n",
    "class GetTimestampFn(beam.DoFn):\n",
    "    def process(self, element, timestamp=beam.DoFn.TimestampParam):\n",
    "        yield '{} - {} - {}'.format(timestamp.to_utc_datetime(), element.id, element.animal)\n",
    "        \n",
    "inputs = [\n",
    "    AnimalSightingEvent('1', '🐹', dtime(yy=2020, mm=3, day=4)),\n",
    "    AnimalSightingEvent('2', '🐼', dtime(yy=2020, mm=3, day=5)),\n",
    "    AnimalSightingEvent('3', '🐰', dtime(yy=2020, mm=3, day=6)),\n",
    "    AnimalSightingEvent('4', '🐹', dtime(yy=2020, mm=3, day=7)),\n",
    "    AnimalSightingEvent('5', '🐰', dtime(yy=2020, mm=3, day=8)),\n",
    "]\n",
    "\n",
    "with beam.Pipeline() as pipeline:\n",
    "    outputs = (\n",
    "      pipeline\n",
    "      | 'Create animal sightings' >> beam.Create(inputs)\n",
    "      | 'Add timestamps' >> beam.ParDo(AddTimestampFn())\n",
    "      | 'Get timestamps' >> beam.ParDo(GetTimestampFn())\n",
    "    )\n",
    "    outputs | beam.Map(print)"
   ]
  },
  {
   "cell_type": "markdown",
   "metadata": {
    "pycharm": {
     "name": "#%% md\n"
    }
   },
   "source": [
    "### Exercise 2 - Add timestamp to food sighting events\n",
    "Create a pipeline of food sighting events. Use the timestamp field from the food sighting events to add a timestamp to elements of the PCollection. Finally, print out the timestamps for each element.\n",
    "\n",
    "#### Expected Output\n",
    "```\n",
    "2020-03-04 00:00:00 - 1 - 🌽\n",
    "2020-03-05 00:00:00 - 2 - 🌽\n",
    "2020-03-06 00:00:00 - 3 - 🥕\n",
    "2020-03-07 00:00:00 - 4 - 🥕\n",
    "2020-03-08 00:00:00 - 5 - 🌽\n",
    "```"
   ]
  },
  {
   "cell_type": "code",
   "execution_count": 5,
   "metadata": {
    "pycharm": {
     "name": "#%%\n",
     "is_executing": false
    }
   },
   "outputs": [],
   "source": [
    "class FoodSightingEvent:\n",
    "    def __init__(self, id, food, timestamp):\n",
    "        self.id = id\n",
    "        self.food = food\n",
    "        self.timestamp = timestamp\n",
    "        \n",
    "class AddTimestampFn(beam.DoFn):\n",
    "    def process(self, element, **kwargs):\n",
    "        unix_timestamp = element.timestamp.timestamp()\n",
    "        yield beam.window.TimestampedValue(element, unix_timestamp)\n",
    "        \n",
    "class GetTimestampFn(beam.DoFn):\n",
    "    def process(self, element, timestamp=beam.DoFn.TimestampParam):\n",
    "        yield '{} - {} - {}'.format(timestamp.to_utc_datetime(), element.id, element.food)"
   ]
  },
  {
   "cell_type": "code",
   "execution_count": 7,
   "metadata": {
    "pycharm": {
     "is_executing": false
    }
   },
   "outputs": [
    {
     "data": {
      "application/javascript": "\n        if (typeof window.interactive_beam_jquery == 'undefined') {\n          var jqueryScript = document.createElement('script');\n          jqueryScript.src = 'https://code.jquery.com/jquery-3.4.1.slim.min.js';\n          jqueryScript.type = 'text/javascript';\n          jqueryScript.onload = function() {\n            var datatableScript = document.createElement('script');\n            datatableScript.src = 'https://cdn.datatables.net/1.10.20/js/jquery.dataTables.min.js';\n            datatableScript.type = 'text/javascript';\n            datatableScript.onload = function() {\n              window.interactive_beam_jquery = jQuery.noConflict(true);\n              window.interactive_beam_jquery(document).ready(function($){\n                \n              });\n            }\n            document.head.appendChild(datatableScript);\n          };\n          document.head.appendChild(jqueryScript);\n        } else {\n          window.interactive_beam_jquery(document).ready(function($){\n            \n          });\n        }"
     },
     "metadata": {},
     "output_type": "display_data"
    },
    {
     "data": {
      "application/javascript": "\n        var import_html = () => {\n          ['https://raw.githubusercontent.com/PAIR-code/facets/1.0.0/facets-dist/facets-jupyter.html'].forEach(href => {\n            var link = document.createElement('link');\n            link.rel = 'import'\n            link.href = href;\n            document.head.appendChild(link);\n          });\n        }\n        if ('import' in document.createElement('link')) {\n          import_html();\n        } else {\n          var webcomponentScript = document.createElement('script');\n          webcomponentScript.src = 'https://cdnjs.cloudflare.com/ajax/libs/webcomponentsjs/1.3.3/webcomponents-lite.js';\n          webcomponentScript.type = 'text/javascript';\n          webcomponentScript.onload = function(){\n            import_html();\n          };\n          document.head.appendChild(webcomponentScript);\n        }"
     },
     "metadata": {},
     "output_type": "display_data"
    },
    {
     "name": "stdout",
     "text": [
      "2020-03-04 00:00:00 - 1 - 🌽\n",
      "2020-03-05 00:00:00 - 2 - 🌽\n",
      "2020-03-06 00:00:00 - 3 - 🥕\n",
      "2020-03-07 00:00:00 - 4 - 🥕\n",
      "2020-03-08 00:00:00 - 5 - 🌽\n"
     ],
     "output_type": "stream"
    }
   ],
   "source": [
    "inputs = [\n",
    "    FoodSightingEvent('1', '🌽', dtime(yy=2020, mm=3, day=4)),\n",
    "    FoodSightingEvent('2', '🌽', dtime(yy=2020, mm=3, day=5)),\n",
    "    FoodSightingEvent('3', '🥕', dtime(yy=2020, mm=3, day=6)),\n",
    "    FoodSightingEvent('4', '🥕', dtime(yy=2020, mm=3, day=7)),\n",
    "    FoodSightingEvent('5', '🌽', dtime(yy=2020, mm=3, day=8)),\n",
    "]\n",
    "\n",
    "with beam.Pipeline() as pipeline:\n",
    "    outputs = (\n",
    "      pipeline \n",
    "      | # YOUR CODE HERE \n",
    "      | # YOUR CODE HERE\n",
    "      | # YOUR CODE HERE\n",
    "    )\n",
    "    outputs | beam.Map(print)"
   ]
  },
  {
   "cell_type": "markdown",
   "metadata": {},
   "source": [
    "### Exercise 3 - Count events using fixed windows\n",
    "Count the number of events that happened based on a fixed window with 1-minute duration.\n",
    "\n",
    "#### Expected Output\n",
    "```\n",
    "('🌽', 1)\n",
    "('🥕', 2)\n",
    "('🥕', 2)\n",
    "('🥕', 3)\n",
    "('🐰', 1)\n",
    "('🐰', 1)\n",
    "```\n",
    "#### Hints\n",
    "- You need to count the elements. One way to do this is:\n",
    "`beam.combiners.Count.PerElement()`\n",
    "- You need to create an appropriate fixed window boundary over your data:\n",
    "`beam.WindowInto(beam.window.FixedWindows(<duraton in secs>))`\n",
    "- You need to group the elements in each window according to an appropriate key. You can use the Map fn: \n",
    "`beam.Map(lambda element: element.<some_attribute>)`\n",
    "- You should perform these tasks in the correct order :-)"
   ]
  },
  {
   "cell_type": "code",
   "execution_count": 8,
   "metadata": {
    "pycharm": {
     "is_executing": false
    }
   },
   "outputs": [
    {
     "traceback": [
      "\u001b[0;36m  File \u001b[0;32m\"<ipython-input-8-3bb321509d61>\"\u001b[0;36m, line \u001b[0;32m20\u001b[0m\n\u001b[0;31m    | # YOUR CODE HERE\u001b[0m\n\u001b[0m    ^\u001b[0m\n\u001b[0;31mSyntaxError\u001b[0m\u001b[0;31m:\u001b[0m invalid syntax\n"
     ],
     "ename": "SyntaxError",
     "evalue": "invalid syntax (<ipython-input-8-3bb321509d61>, line 20)",
     "output_type": "error"
    }
   ],
   "source": [
    "with beam.Pipeline() as p:\n",
    "  (p | beam.Create([\n",
    "          # Window 0:\n",
    "          FoodSightingEvent('1', '🌽', dtime(hour=1, min=1, sec=5)),\n",
    "          FoodSightingEvent('2', '🥕', dtime(hour=1, min=1, sec=15)),\n",
    "          FoodSightingEvent('3', '🥕', dtime(hour=1, min=1, sec=16)),\n",
    "          FoodSightingEvent('4', '🐰', dtime(hour=1, min=1, sec=59)),\n",
    "          # Window 1:\n",
    "          FoodSightingEvent('5', '🥕', dtime(hour=1, min=31, sec=18)),\n",
    "          FoodSightingEvent('6', '🥕', dtime(hour=1, min=31, sec=36)),\n",
    "          # Window 2\n",
    "          FoodSightingEvent('7', '🥕', dtime(hour=1, min=34, sec=1)),\n",
    "          FoodSightingEvent('8', '🥕', dtime(hour=1, min=34, sec=18)),\n",
    "          FoodSightingEvent('9', '🥕', dtime(hour=1, min=34, sec=51)),\n",
    "          # Window 3\n",
    "          FoodSightingEvent('10', '🐰', dtime(hour=2, min=34, sec=51)),\n",
    "       ])\n",
    "     | 'Add timestamps' >> beam.ParDo(AddTimestampFn())\n",
    "     | # YOUR CODE HERE \n",
    "     | # YOUR CODE HERE \n",
    "     | # YOUR CODE HERE \n",
    "     | beam.Map(print)) "
   ]
  },
  {
   "cell_type": "markdown",
   "metadata": {},
   "source": [
    "### Exercise 4 - Count events using sliding windows\n",
    "\n",
    "Now lets consider sliding windows. After every 30 seconds (the period) we want to calculate the number of elements that \n",
    "arrived over the last minute (i.e. the duration). We are going to use a different input on this example to help ensure \n",
    "the output is easier to understand. \n",
    "\n",
    "#### Hints\n",
    "\n",
    "This solution here should look a lot like the previous, except you need to use a Sliding Window:\n",
    "`beam.window.SlidingWindows(<duration>, <period>)`\n",
    "\n",
    "#### Expected Output\n",
    "```\n",
    "('🌽', 1)\n",
    "('🌽', 1)\n",
    "('🍏', 1)\n",
    "('🍏', 1)\n",
    "('🍕', 1)\n",
    "('🍕', 1)\n",
    "('🐰', 1)\n",
    "('🐰', 1)\n",
    "```\n",
    "Assuming the window is firing on the half minute, then the '🌽' is included in the first 2 windows:\n",
    "\n",
    "- Window 0 [01:00:30, 01:01:30) <=> '🌽' 01:01:05\n",
    "- Window 1 [01:01:00, 01:02:00) <=> '🌽' 01:01:05\n",
    "- Window 2 [01:01:30, 01:02:30) \n",
    "\n",
    "Try experimenting with different periods to the result on the output! "
   ]
  },
  {
   "cell_type": "code",
   "execution_count": 18,
   "metadata": {
    "pycharm": {
     "is_executing": false
    }
   },
   "outputs": [
    {
     "name": "stdout",
     "text": [
      "('🌽', 1)\n",
      "('🌽', 1)\n",
      "('🍏', 1)\n",
      "('🍏', 1)\n",
      "('🍕', 1)\n",
      "('🍕', 1)\n",
      "('🐰', 1)\n",
      "('🐰', 1)\n"
     ],
     "output_type": "stream"
    }
   ],
   "source": [
    "with beam.Pipeline() as p:\n",
    "  (p | beam.Create([\n",
    "          FoodSightingEvent('1', '🌽', dtime(hour=1, min=1, sec=5)),\n",
    "      \n",
    "          FoodSightingEvent('2', '🍏', dtime(hour=1, min=31, sec=36)),\n",
    "      \n",
    "          FoodSightingEvent('3', '🍕', dtime(hour=1, min=34, sec=1)),\n",
    "      \n",
    "          FoodSightingEvent('4', '🐰', dtime(hour=2, min=34, sec=51)),\n",
    "       ])\n",
    "\n",
    "     | 'Add timestamps' >> beam.ParDo(AddTimestampFn())\n",
    "     | # YOUR CODE HERE \n",
    "     | # YOUR CODE HERE \n",
    "     | # YOUR CODE HERE\n",
    "     | beam.Map(print))"
   ]
  },
  {
   "cell_type": "markdown",
   "metadata": {},
   "source": [
    "### Exercise 5 - Count events using session windows\n",
    "\n",
    "In this example, lets try counting events that occur in a given session window. Recall that a new Session window is \n",
    "created whenever Beam sees a specifed gap size (i.e. a period of time with no data elements). Let's use a gap size of 5\n",
    "minutes.   \n",
    "\n",
    "#### Hints\n",
    "\n",
    "You need to use a Session Window: beam.window.Sessions(<gap_size in seconds>)\n",
    "\n",
    "#### Expected Output\n",
    "```\n",
    "('🌽', 4)\n",
    "('🥕', 5)\n",
    "('🐰', 1)\n",
    "```"
   ]
  },
  {
   "cell_type": "code",
   "execution_count": 20,
   "metadata": {
    "pycharm": {
     "is_executing": false
    }
   },
   "outputs": [
    {
     "name": "stdout",
     "text": [
      "('🌽', 4)\n",
      "('🥕', 5)\n",
      "('🐰', 1)\n"
     ],
     "output_type": "stream"
    }
   ],
   "source": [
    "with beam.Pipeline() as p:\n",
    "  (p | beam.Create([\n",
    "          FoodSightingEvent('1', '🌽', dtime(hour=1, min=1, sec=5)),\n",
    "          FoodSightingEvent('2', '🌽', dtime(hour=1, min=1, sec=15)),\n",
    "          FoodSightingEvent('3', '🌽', dtime(hour=1, min=1, sec=16)),\n",
    "          FoodSightingEvent('4', '🌽', dtime(hour=1, min=1, sec=59)),\n",
    "      \n",
    "          FoodSightingEvent('5', '🥕', dtime(hour=1, min=31, sec=18)),\n",
    "          FoodSightingEvent('6', '🥕', dtime(hour=1, min=31, sec=36)),\n",
    "      \n",
    "          FoodSightingEvent('7', '🥕', dtime(hour=1, min=34, sec=1)),\n",
    "          FoodSightingEvent('8', '🥕', dtime(hour=1, min=34, sec=18)),\n",
    "          FoodSightingEvent('9', '🥕', dtime(hour=1, min=34, sec=51)),\n",
    "      \n",
    "          FoodSightingEvent('10', '🐰', dtime(hour=2, min=34, sec=51)),\n",
    "       ])\n",
    "  \n",
    "     | 'Add timestamps' >> beam.ParDo(AddTimestampFn())\n",
    "     # | # YOUR CODE HERE \n",
    "     # | # YOUR CODE HERE \n",
    "     # | # YOUR CODE HERE \n",
    "     | beam.Map(print))"
   ]
  },
  {
   "cell_type": "markdown",
   "source": [
    "### Exercise 6 - Count events using global windows\n",
    "In this example, lets try counting events that occur in a global window. \n",
    "\n",
    "#### Hints\n",
    "\n",
    "You need to use a Glboal Window: beam.window.GlobalWindows()\n",
    "\n",
    "#### Expected Output\n",
    "```\n",
    "('🌽', 1)\n",
    "('🥕', 7)\n",
    "('🐰', 2)\n",
    "```"
   ],
   "metadata": {
    "collapsed": false
   }
  },
  {
   "cell_type": "code",
   "execution_count": 21,
   "outputs": [
    {
     "name": "stdout",
     "text": [
      "('🌽', 1)\n",
      "('🥕', 7)\n",
      "('🐰', 2)\n"
     ],
     "output_type": "stream"
    }
   ],
   "source": [
    "with beam.Pipeline() as p:\n",
    "  (p | beam.Create([\n",
    "          FoodSightingEvent('1', '🌽', dtime(hour=1, min=1, sec=5)),\n",
    "          FoodSightingEvent('2', '🥕', dtime(hour=1, min=1, sec=15)),\n",
    "          FoodSightingEvent('3', '🥕', dtime(hour=1, min=1, sec=16)),\n",
    "          FoodSightingEvent('4', '🐰', dtime(hour=1, min=1, sec=59)),\n",
    "      \n",
    "          FoodSightingEvent('5', '🥕', dtime(hour=1, min=31, sec=18)),\n",
    "          FoodSightingEvent('6', '🥕', dtime(hour=1, min=31, sec=36)),\n",
    "      \n",
    "          FoodSightingEvent('7', '🥕', dtime(hour=1, min=34, sec=1)),\n",
    "          FoodSightingEvent('8', '🥕', dtime(hour=1, min=34, sec=18)),\n",
    "          FoodSightingEvent('9', '🥕', dtime(hour=1, min=34, sec=51)),\n",
    "      \n",
    "          FoodSightingEvent('10', '🐰', dtime(hour=2, min=34, sec=51)),\n",
    "       ])\n",
    "   \n",
    "   | 'Add timestamps' >> beam.ParDo(AddTimestampFn())\n",
    "   | # YOUR CODE HERE \n",
    "   | # YOUR CODE HERE \n",
    "   | # YOUR CODE HERE \n",
    "   | beam.Map(print))"
   ],
   "metadata": {
    "collapsed": false,
    "pycharm": {
     "name": "#%%\n",
     "is_executing": false
    }
   }
  },
  {
   "cell_type": "markdown",
   "metadata": {},
   "source": [
    "### References\n",
    "Apache Beam Katas\n",
    "\n",
    "https://beam.apache.org/documentation/programming-guide"
   ]
  },
  {
   "cell_type": "code",
   "execution_count": null,
   "metadata": {
    "pycharm": {
     "is_executing": false
    }
   },
   "outputs": [],
   "source": [
    "with beam.Pipeline() as p:\n",
    "  (p | beam.Create([\n",
    "          FoodSightingEvent('1', '🌽', dtime(hour=1, min=1, sec=5)),\n",
    "          FoodSightingEvent('2', '🥕', dtime(hour=1, min=1, sec=15)),\n",
    "          FoodSightingEvent('3', '🥕', dtime(hour=1, min=1, sec=16)),\n",
    "          FoodSightingEvent('4', '🐰', dtime(hour=1, min=1, sec=59)),\n",
    "      \n",
    "          FoodSightingEvent('5', '🥕', dtime(hour=1, min=31, sec=18)),\n",
    "          FoodSightingEvent('6', '🥕', dtime(hour=1, min=31, sec=36)),\n",
    "      \n",
    "          FoodSightingEvent('7', '🥕', dtime(hour=1, min=34, sec=1)),\n",
    "          FoodSightingEvent('8', '🥕', dtime(hour=1, min=34, sec=18)),\n",
    "          FoodSightingEvent('9', '🥕', dtime(hour=1, min=34, sec=51)),\n",
    "      \n",
    "          FoodSightingEvent('10', '🐰', dtime(hour=2, min=34, sec=51)),\n",
    "       ])\n",
    "   \n",
    "   | 'Add timestamps' >> beam.ParDo(AddTimestampFn())\n",
    "   | # YOUR CODE HERE \n",
    "   | # YOUR CODE HERE \n",
    "   | # YOUR CODE HERE \n",
    "   | beam.Map(print))"
   ]
  },
  {
   "cell_type": "markdown",
   "metadata": {},
   "source": [
    "### References\n",
    "Apache Beam Katas\n",
    "\n",
    "https://beam.apache.org/documentation/programming-guide"
   ]
  }
 ],
 "metadata": {
  "kernelspec": {
   "display_name": "Python 3",
   "language": "python",
   "name": "python3"
  },
  "language_info": {
   "codemirror_mode": {
    "name": "ipython",
    "version": 3
   },
   "file_extension": ".py",
   "mimetype": "text/x-python",
   "name": "python",
   "nbconvert_exporter": "python",
   "pygments_lexer": "ipython3",
   "version": "3.8.5"
  },
  "pycharm": {
   "stem_cell": {
    "cell_type": "raw",
    "source": [],
    "metadata": {
     "collapsed": false
    }
   }
  }
 },
 "nbformat": 4,
 "nbformat_minor": 4
}